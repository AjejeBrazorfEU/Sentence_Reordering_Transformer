{
  "cells": [
    {
      "cell_type": "markdown",
      "metadata": {
        "id": "ElNaMbLnRdHR"
      },
      "source": [
        "Luca Domeniconi luca.domeniconi5@studio.unibo.it (student-id: 0001113308)\n",
        "\n",
        "-------\n",
        "\n",
        "# Sentence Reconstruction"
      ]
    },
    {
      "cell_type": "markdown",
      "metadata": {
        "id": "oXr4iGUGRms8"
      },
      "source": [
        "The purpose of this project is to take in input a sequence of words corresponding to a random permutation of a given english sentence, and reconstruct the original sentence.\n",
        "\n",
        "The otuput can be either produced in a single shot, or through an iterative (autoregressive) loop generating a single token at a time.\n",
        "\n",
        "\n",
        "CONSTRAINTS:\n",
        "* No pretrained model can be used.\n",
        "* The neural network models should have less the 20M parameters.\n",
        "* No postprocessing should be done (e.g. no beamsearch)\n",
        "* You cannot use additional training data.\n",
        "\n",
        "\n",
        "BONUS PARAMETERS:\n",
        "\n",
        "A bonus of 0-2 points will be attributed to incentivate the adoption of models with a low number of parameters."
      ]
    },
    {
      "cell_type": "markdown",
      "metadata": {
        "id": "iQ8k-L-WUK7l"
      },
      "source": [
        "# Dataset\n",
        "\n",
        "The dataset is composed by sentences taken from the generics_kb dataset of hugging face. We restricted the vocabolary to the 10K most frequent words, and only took sentences making use of this vocabulary."
      ]
    },
    {
      "cell_type": "code",
      "execution_count": null,
      "metadata": {
        "colab": {
          "base_uri": "https://localhost:8080/"
        },
        "collapsed": true,
        "id": "nJ02vehGYySk",
        "outputId": "e40e988a-dab7-4d6f-f44c-678273e9dba9"
      },
      "outputs": [],
      "source": [
        "!pip install datasets"
      ]
    },
    {
      "cell_type": "markdown",
      "metadata": {
        "id": "807Wk-ir_bDU"
      },
      "source": [
        "Download the dataset"
      ]
    },
    {
      "cell_type": "code",
      "execution_count": 4,
      "metadata": {
        "colab": {
          "base_uri": "https://localhost:8080/"
        },
        "id": "_WjtqA8TrHcS",
        "outputId": "236c477f-7981-454e-cfd1-a19118566134"
      },
      "outputs": [
        {
          "name": "stdout",
          "output_type": "stream",
          "text": [
            "WARNING:tensorflow:From c:\\Users\\Luca\\AppData\\Local\\Programs\\Python\\Python310\\lib\\site-packages\\keras\\src\\losses.py:2976: The name tf.losses.sparse_softmax_cross_entropy is deprecated. Please use tf.compat.v1.losses.sparse_softmax_cross_entropy instead.\n",
            "\n"
          ]
        }
      ],
      "source": [
        "from datasets import load_dataset\n",
        "from keras.layers import TextVectorization\n",
        "import tensorflow as tf\n",
        "import numpy as np\n",
        "import pickle\n",
        "\n",
        "SEED = 24\n",
        "np.random.seed(SEED)"
      ]
    },
    {
      "cell_type": "markdown",
      "metadata": {
        "id": "FyYpXLCF_ldR"
      },
      "source": [
        "Create a tokenizer and Detokenizer"
      ]
    },
    {
      "cell_type": "code",
      "execution_count": 5,
      "metadata": {
        "collapsed": true,
        "id": "T-bE2JpVbU9E"
      },
      "outputs": [
        {
          "name": "stdout",
          "output_type": "stream",
          "text": [
            "Loading tokenizer and original data.\n",
            "WARNING:tensorflow:From c:\\Users\\Luca\\AppData\\Local\\Programs\\Python\\Python310\\lib\\site-packages\\keras\\src\\backend.py:873: The name tf.get_default_graph is deprecated. Please use tf.compat.v1.get_default_graph instead.\n",
            "\n"
          ]
        }
      ],
      "source": [
        "class TextDetokenizer:\n",
        "        def __init__(self, vectorize_layer):\n",
        "                self.vectorize_layer = vectorize_layer\n",
        "                vocab = self.vectorize_layer.get_vocabulary()\n",
        "                self.index_to_word = {index: word for index, word in enumerate(vocab)}\n",
        "\n",
        "        def __detokenize_tokens(self, tokens):\n",
        "                def check_token(t):\n",
        "                    if t == 3:\n",
        "                        s=\"<start>\"\n",
        "                    elif t ==2:\n",
        "                        s=\"<end>\"\n",
        "                    elif t ==7:\n",
        "                        s=\"<comma>\"\n",
        "                    else:\n",
        "                        s=self.index_to_word.get(t, '[UNK]')\n",
        "                    return s\n",
        "\n",
        "                return ' '.join([ check_token(token) for token in tokens if token != 0])\n",
        "\n",
        "        def __call__(self, batch_tokens):\n",
        "             return [self.__detokenize_tokens(tokens) for tokens in batch_tokens]\n",
        "\n",
        "# check if the tokenizer is already saved\n",
        "try:\n",
        "    print(\"Loading tokenizer and original data.\")\n",
        "    # Load the tokenizer with pickle\n",
        "    with open('tokenizer.pkl', 'rb') as f:\n",
        "        tokenizer_data = pickle.load(f)\n",
        "        tokenizer = TextVectorization.from_config(tokenizer_data[\"config\"])\n",
        "        tokenizer.set_weights(tokenizer_data[\"weights\"])\n",
        "        detokenizer = TextDetokenizer( tokenizer )\n",
        "    \n",
        "    # Read original_data with pickle\n",
        "    with open('original_data.pkl', 'rb') as f:\n",
        "        original_data = pickle.load(f)\n",
        "    \n",
        "except FileNotFoundError:\n",
        "    print(\"Tokenizer or original data not found. Creating new ones.\")\n",
        "    # Create a new tokenizer\n",
        "    ds = load_dataset('generics_kb',trust_remote_code=True)['train']\n",
        "    ds = ds.filter(lambda row: len(row['generic_sentence'].split(\" \"))>8 )\n",
        "    corpus = [ '<start> ' + row['generic_sentence'].replace(\",\",\" <comma>\") + ' <end>' for row in ds ]\n",
        "    corpus = np.array(corpus)\n",
        "    tokenizer=TextVectorization( max_tokens=10000, standardize=\"lower_and_strip_punctuation\")\n",
        "    tokenizer.adapt(corpus)\n",
        " \n",
        " \n",
        "    detokenizer = TextDetokenizer( tokenizer )\n",
        "    sentences = tokenizer( corpus ).numpy()\n",
        " \n",
        "    mask = np.sum( (sentences==1) , axis=1) >= 1\n",
        "    original_data = np.delete( sentences, mask , axis=0)\n",
        "    original_data = [sen for sen in tokenizer(corpus).numpy() if not(1 in sen) and len(sen)>4 and len(sen)<= 32]\n",
        " \n",
        "# Shuffle the original_data\n",
        "shuffled_indices = np.random.permutation(len(original_data))\n",
        "original_data = np.array(original_data)[shuffled_indices]"
      ]
    },
    {
      "cell_type": "markdown",
      "metadata": {},
      "source": [
        "Create the DataGenerator"
      ]
    },
    {
      "cell_type": "code",
      "execution_count": 6,
      "metadata": {
        "id": "1ZXLkWB6od0R"
      },
      "outputs": [],
      "source": [
        "from keras.utils import Sequence\n",
        "\n",
        "class DataGenerator(Sequence):\n",
        "        def __init__(self, data, batch_size=32, shuffle=True, seed=None):\n",
        "\n",
        "            self.data = data\n",
        "            self.batch_size = batch_size\n",
        "            self.shuffle = shuffle\n",
        "            self.seed = seed\n",
        "            self.on_epoch_end()\n",
        "\n",
        "        def __len__(self):\n",
        "            return int(np.floor(len(self.data) / self.batch_size))\n",
        "\n",
        "        def __getitem__(self, index):\n",
        "            indexes = self.indexes[index*self.batch_size:(index+1)*self.batch_size]\n",
        "\n",
        "            data_batch = np.array([self.data[k] for k in indexes])\n",
        "            #cop of ordered sequences\n",
        "            result = np.copy(data_batch)\n",
        "            #shuffle only the relevant positions for each batch\n",
        "            for i in range(data_batch.shape[0]):\n",
        "                np.random.shuffle(data_batch[i,1:data_batch[i].argmin() - 1])\n",
        "\n",
        "            return data_batch , result\n",
        "\n",
        "        def on_epoch_end(self):\n",
        "            self.indexes = np.arange(len(self.data))\n",
        "            if self.shuffle:\n",
        "                if self.seed is not None:\n",
        "                    np.random.seed(self.seed)\n",
        "                np.random.shuffle(self.indexes)"
      ]
    },
    {
      "cell_type": "markdown",
      "metadata": {
        "id": "Fo8MazCGBTv3"
      },
      "source": [
        "# Metrics"
      ]
    },
    {
      "cell_type": "markdown",
      "metadata": {
        "id": "G0NOkuO0CfPo"
      },
      "source": [
        "Let s be the source string and p your prediction. The quality of the results will be measured according to the following metric:\n",
        "\n",
        "1.  look for the longest substring w between s and p\n",
        "2.  compute |w|/max(|s|,|p|)\n",
        "\n",
        "If the match is exact, the score is 1.\n",
        "\n",
        "When computing the score, you should NOT consider the start and end tokens.\n",
        "\n"
      ]
    },
    {
      "cell_type": "markdown",
      "metadata": {
        "id": "a-aUrdlXDdVf"
      },
      "source": [
        "The longest common substring can be computed with the SequenceMatcher function of difflib, that allows a simple definition of our metric."
      ]
    },
    {
      "cell_type": "code",
      "execution_count": 7,
      "metadata": {
        "id": "ulpTRdrF_huh"
      },
      "outputs": [],
      "source": [
        "from difflib import SequenceMatcher\n",
        "\n",
        "def score(s,p):\n",
        "    match = SequenceMatcher(None, s, p).find_longest_match()\n",
        "    return (match.size/max(len(p),len(s)))"
      ]
    },
    {
      "cell_type": "markdown",
      "metadata": {
        "id": "RB2YfjXNExM-"
      },
      "source": [
        "Let's do an example."
      ]
    },
    {
      "cell_type": "code",
      "execution_count": 12,
      "metadata": {
        "id": "h17C8bVjEwur"
      },
      "outputs": [
        {
          "name": "stdout",
          "output_type": "stream",
          "text": [
            "your score is  0.5423728813559322\n"
          ]
        }
      ],
      "source": [
        "original = \"at first henry wanted to be friends with the king of france\"\n",
        "generated = \"henry wanted to be friends with king of france at the first\"\n",
        "\n",
        "print(\"your score is \",score(original,generated))"
      ]
    },
    {
      "cell_type": "code",
      "execution_count": 13,
      "metadata": {},
      "outputs": [
        {
          "name": "stdout",
          "output_type": "stream",
          "text": [
            "0.5\n"
          ]
        }
      ],
      "source": [
        "print(score(\"2 1 20 3 0 0\", \"2 20 1 3 0 0\"))"
      ]
    },
    {
      "cell_type": "markdown",
      "metadata": {
        "id": "BET8GqBvFugR"
      },
      "source": [
        "The score must be computed as an average of at least 3K random examples taken form the test set."
      ]
    },
    {
      "cell_type": "markdown",
      "metadata": {
        "id": "4fwo7xj4GBW1"
      },
      "source": [
        "# What to deliver"
      ]
    },
    {
      "cell_type": "markdown",
      "metadata": {
        "id": "i6uITuxOGHfJ"
      },
      "source": [
        "You are supposed to deliver a single notebook, suitably commented.\n",
        "The notebook should describe a single model, although you may briefly discuss additional attempts you did.\n",
        "\n",
        "The notebook should contain a full trace of the training.\n",
        "Weights should be made available on request.\n",
        "\n",
        "You must also give a clear assesment of the performance of the model, computed with the metric that has been given to you.\n",
        "\n",
        "# Good work!"
      ]
    },
    {
      "cell_type": "markdown",
      "metadata": {},
      "source": [
        "For this project I implemented a Transformer model based on the [Tensorflow implementation](https://www.tensorflow.org/text/tutorials/transformer), that follows the original paper [\"Attention Is All You Need\"](https://arxiv.org/pdf/1706.03762).\n",
        "\n",
        "The transformer takes as input two values:\n",
        "1) `Context`: contains the scrambled phrase, it is fed into the input of the Encoder and has a shape of (`batch_size`, `max_len`) \n",
        "2) `x`: contains the input of the Decoder and has a shape of (`batch_size`, `max_len`).\n",
        "\n",
        "The transformer output has the following shape:\n",
        "\n",
        "(`batch_size`, `max_len`, `max_len`)\n",
        "\n",
        "and contains for each position the probability of the next token to be the $i$-th token in the `Context`. Basically, instead of outputting a probability for each word in the dictionary, it outputs the probability for each token in the `Context` to be the next token in the prediction. In this way, the model can only output words from the `Context` and not words from the entire dictionary, making it easier to train.\n",
        "\n",
        "\n",
        "During the training phase, `x` contains the ground truth (ordered phrase). During the inference phase, `x` contains initially only the `<start>` token, and each call to the model generates a new token that gets appended."
      ]
    },
    {
      "cell_type": "code",
      "execution_count": 8,
      "metadata": {},
      "outputs": [],
      "source": [
        "import tensorflow as tf\n",
        "from keras.layers import MultiHeadAttention, LayerNormalization, Add, Embedding, Dense, Dropout, Layer\n",
        "from keras import Sequential, Model\n",
        "import numpy as np\n",
        "from keras.losses import CategoricalCrossentropy\n",
        "from keras.optimizers import Adam, AdamW\n",
        "\n",
        "class BaseAttention(Layer):\n",
        "    def __init__(self, **kwargs):\n",
        "        super().__init__()\n",
        "        self.mha = MultiHeadAttention(**kwargs)\n",
        "        self.layernorm = LayerNormalization()\n",
        "        self.add = Add()\n",
        "        \n",
        "class CrossAttention(BaseAttention):\n",
        "    def call(self, x, context):\n",
        "        x = tf.cast(x, tf.float64)\n",
        "        context = tf.cast(context, tf.float64)\n",
        "        attn_output, attn_scores = self.mha(\n",
        "                query=x,\n",
        "                key=context,\n",
        "                value=context,\n",
        "                return_attention_scores=True)\n",
        "\n",
        "        x = self.add([x, attn_output])\n",
        "        x = self.layernorm(x)\n",
        "\n",
        "        return x\n",
        "\n",
        "class GlobalSelfAttention(Layer):\n",
        "    def __init__(self, num_heads, key_dim, dropout):\n",
        "        super().__init__()\n",
        "        self.mha = MultiHeadAttention(num_heads=num_heads, key_dim=key_dim, dropout=dropout)\n",
        "        self.layernorm = LayerNormalization()\n",
        "        self.add = Add()\n",
        "        \n",
        "    def call(self, x):\n",
        "        x = tf.cast(x, tf.float64)\n",
        "        attn_output = self.mha(\n",
        "                query=x,\n",
        "                value=x,\n",
        "                key=x)\n",
        "        x = self.add([x, attn_output])\n",
        "        x = self.layernorm(x)\n",
        "        return x\n",
        "\n",
        "class CausalSelfAttention(BaseAttention):\n",
        "    def call(self, x):\n",
        "        x = tf.cast(x, tf.float64)\n",
        "        attn_output = self.mha(\n",
        "                query=x,\n",
        "                value=x,\n",
        "                key=x,\n",
        "                use_causal_mask = True)\n",
        "        x = self.add([x, attn_output])\n",
        "        x = self.layernorm(x)\n",
        "        return x\n",
        "\n",
        "def positional_encoding(length, depth):\n",
        "    depth = depth/2\n",
        "\n",
        "    positions = np.arange(length)[:, np.newaxis]         # (seq, 1)\n",
        "    depths = np.arange(depth)[np.newaxis, :]/depth     # (1, depth)\n",
        "\n",
        "    angle_rates = 1 / (10000**depths)                 # (1, depth)\n",
        "    angle_rads = positions * angle_rates            # (pos, depth)\n",
        "\n",
        "    pos_encoding = np.concatenate(\n",
        "            [np.sin(angle_rads), np.cos(angle_rads)],\n",
        "            axis=-1) \n",
        "\n",
        "    return tf.cast(pos_encoding, dtype=tf.float32)\n",
        "\n",
        "class PositionalEmbedding(Layer):\n",
        "    def __init__(self, vocab_size, d_model, max_len):\n",
        "        super().__init__()\n",
        "        self.d_model = d_model\n",
        "        self.embedding = Embedding(vocab_size, d_model, mask_zero=True) \n",
        "        self.pos_encoding = positional_encoding(length=2048, depth=d_model)\n",
        "        self.max_len = max_len\n",
        "\n",
        "    def compute_mask(self, *args, **kwargs):\n",
        "        return self.embedding.compute_mask(*args, **kwargs)\n",
        "\n",
        "    def call(self, x):\n",
        "        length = self.max_len\n",
        "        # length = x.shape[1]\n",
        "        x = self.embedding(x)\n",
        "        # This factor sets the relative scale of the embedding and positonal_encoding.\n",
        "        x *= tf.math.sqrt(tf.cast(self.d_model, tf.float32))\n",
        "        pos_encoding = positional_encoding(length, self.d_model)\n",
        "        x = x + pos_encoding[tf.newaxis, :length, :]\n",
        "\n",
        "        return x\n",
        "\n",
        "class FeedForward(Layer):\n",
        "    def __init__(self, d_model, dff, dropout_rate=0.1):\n",
        "        super().__init__()\n",
        "        self.seq = Sequential([\n",
        "            Dense(dff, activation='swish'),\n",
        "            Dense(d_model),\n",
        "            Dropout(dropout_rate)\n",
        "        ])\n",
        "        self.add = Add()\n",
        "        self.layer_norm = LayerNormalization()\n",
        "\n",
        "    def call(self, x):\n",
        "        x = self.add([x, self.seq(x)])\n",
        "        x = self.layer_norm(x) \n",
        "        return x\n",
        "\n",
        "class EncoderLayer(Layer):\n",
        "    def __init__(self,*, d_model, num_heads, dff, dropout_rate=0.1):\n",
        "        super().__init__()\n",
        "        self.self_attention = GlobalSelfAttention(\n",
        "                num_heads=num_heads,\n",
        "                key_dim=d_model,\n",
        "                dropout=dropout_rate)\n",
        "\n",
        "        self.ffn = FeedForward(d_model, dff)\n",
        "\n",
        "    def call(self, x):\n",
        "        x = self.self_attention(x)        \n",
        "        x = self.ffn(x)\n",
        "        return x\n",
        "    \n",
        "class Encoder(Layer):\n",
        "    def __init__(self, *, num_layers, d_model, num_heads, dff, vocab_size,max_len, dropout_rate=0.1):\n",
        "        super().__init__()\n",
        "        self.d_model = d_model\n",
        "        self.num_layers = num_layers\n",
        "\n",
        "        self.pos_embedding = PositionalEmbedding(vocab_size=vocab_size, d_model=d_model, max_len=max_len)\n",
        "\n",
        "        self.enc_layers = [\n",
        "                EncoderLayer(d_model=d_model, num_heads=num_heads, dff=dff, dropout_rate=dropout_rate)\n",
        "                for _ in range(num_layers)]\n",
        "        self.dropout = Dropout(dropout_rate)\n",
        "\n",
        "    def call(self, x):\n",
        "        x = self.pos_embedding(x)    # Shape `(batch_size, seq_len, d_model)`.\n",
        "        # Add dropout.\n",
        "        x = self.dropout(x)\n",
        "\n",
        "        for i in range(self.num_layers):\n",
        "            x = self.enc_layers[i](x)\n",
        "\n",
        "        return x    # Shape `(batch_size, seq_len, d_model)`.\n",
        "\n",
        "class DecoderLayer(Layer):\n",
        "    def __init__(self, *, d_model, num_heads, dff, dropout_rate=0.1):\n",
        "        super(DecoderLayer, self).__init__()\n",
        "\n",
        "        self.causal_self_attention = CausalSelfAttention(\n",
        "                num_heads=num_heads,\n",
        "                key_dim=d_model,\n",
        "                dropout=dropout_rate)\n",
        "\n",
        "        self.cross_attention = CrossAttention(\n",
        "                num_heads=num_heads,\n",
        "                key_dim=d_model,\n",
        "                dropout=dropout_rate)\n",
        "\n",
        "        self.ffn = FeedForward(d_model, dff)\n",
        "\n",
        "    def call(self, x, context):\n",
        "        x = self.causal_self_attention(x=x)\n",
        "        x = self.cross_attention(x=x, context=context)\n",
        "\n",
        "        x = self.ffn(x)    # Shape `(batch_size, seq_len, d_model)`.\n",
        "        return x\n",
        "\n",
        "class Decoder(Layer):\n",
        "    def __init__(self, *, num_layers, d_model, num_heads, dff, vocab_size, max_len,\n",
        "                             dropout_rate=0.1):\n",
        "        super(Decoder, self).__init__()\n",
        "\n",
        "        self.d_model = d_model\n",
        "        self.num_layers = num_layers\n",
        "\n",
        "        self.pos_embedding = PositionalEmbedding(vocab_size=vocab_size, d_model=d_model, max_len=max_len)\n",
        "        self.dropout = Dropout(dropout_rate)\n",
        "        self.dec_layers = [\n",
        "                DecoderLayer(d_model=d_model, num_heads=num_heads, dff=dff, dropout_rate=dropout_rate)\n",
        "                for _ in range(num_layers)]\n",
        "\n",
        "    def call(self, x, context):\n",
        "        x = self.pos_embedding(x)    # (batch_size, target_seq_len, d_model)\n",
        "\n",
        "        x = self.dropout(x)\n",
        "\n",
        "        for i in range(self.num_layers):\n",
        "            x = self.dec_layers[i](x, context)\n",
        "\n",
        "        # The shape of x is (batch_size, target_seq_len, d_model).\n",
        "        return x\n",
        "\n",
        "class Transformer(Model):\n",
        "    def __init__(self, *, num_layers, d_model, num_heads, dff,\n",
        "                             input_vocab_size, target_vocab_size,output_vocab_size, dropout_rate=0.1):\n",
        "        super().__init__()\n",
        "        self.encoder = Encoder(num_layers=num_layers, d_model=d_model,\n",
        "                                                     num_heads=num_heads, dff=dff,\n",
        "                                                     vocab_size=input_vocab_size,\n",
        "                                                     dropout_rate=dropout_rate,\n",
        "                                                     max_len=output_vocab_size)\n",
        "\n",
        "        self.decoder = Decoder(num_layers=num_layers, d_model=d_model,\n",
        "                                                     num_heads=num_heads, dff=dff,\n",
        "                                                     vocab_size=target_vocab_size,\n",
        "                                                     dropout_rate=dropout_rate,\n",
        "                                                     max_len=output_vocab_size)\n",
        "\n",
        "        self.final_layer = Dense(output_vocab_size)\n",
        "\n",
        "    def call(self, inputs):\n",
        "        # Shape of inputs is (context, x), where context is the input text and x is the target text.\n",
        "        context, x = inputs\n",
        "\n",
        "        context = self.encoder(context)    # (batch_size, context_len, d_model)\n",
        "\n",
        "        x = self.decoder(x, context)    # (batch_size, target_len, d_model)\n",
        "\n",
        "        # Final linear layer output.\n",
        "        logits = self.final_layer(x)    # (batch_size, target_len, target_vocab_size)\n",
        "\n",
        "        try:\n",
        "            # Drop the keras mask, so it doesn't scale the losses/metrics.\n",
        "            # b/250038731\n",
        "            del logits._keras_mask\n",
        "        except AttributeError:\n",
        "            pass\n",
        "\n",
        "        # Return the final output and the attention weights.\n",
        "        return logits"
      ]
    },
    {
      "cell_type": "markdown",
      "metadata": {},
      "source": [
        "## Custom generator\n",
        "\n",
        "The label used in training has the following shape:\n",
        "\n",
        "(`batch_size`, `max_len`, `max_len`)\n",
        "\n",
        "and is the one-hot encoding of the positions of the next correct token from the `Context`.\n",
        "\n",
        "**Example:** If $G_t$ contains the ground truth and $S$ contains the scrambled phrase the label used in training would be:\n",
        "\n",
        "$S = [2,101,102,103,3,0]$\n",
        "\n",
        "$G_t = [2,103,101,102,3,0]$\n",
        "\n",
        "$ Label = \\begin{bmatrix}1,0,0,0,0,0 \\\\\\\n",
        "\t\t  0,0,0,1,0,0 \\\\\\\n",
        "0,1,0,0,0,0 \\\\\\\n",
        "0,0,1,0,0,0 \\\\\\\n",
        "0,0,0,0,1,0 \\\\\\\n",
        "0,0,0,0,0,0 \\end{bmatrix}$\n"
      ]
    },
    {
      "cell_type": "code",
      "execution_count": 9,
      "metadata": {},
      "outputs": [],
      "source": [
        "def generate_label(shuffled,gt):\n",
        "    batch_size = shuffled.shape[0]\n",
        "    res = np.zeros((batch_size, shuffled.shape[1], shuffled.shape[1]), dtype=np.float32)\n",
        "    for b in range(batch_size):\n",
        "        for i, el in enumerate(gt[b]):\n",
        "            if el == 0:\n",
        "                # If the element is 0, then the rest of the sequence is padding.\n",
        "                mask = np.zeros_like(gt[b], dtype=np.float32)\n",
        "            else:\n",
        "                # Create a mask with 1s up to the element we want to predict.\n",
        "                mask = (shuffled[b]==el).astype(np.float32)\n",
        "                # If there are multiple occurrences of the element, keep only the first one.\n",
        "                idx = np.where(mask == 1)[0][0] + 1\n",
        "                mask[idx:] = 0                \n",
        "\n",
        "            res[b][i] = mask\n",
        "    return res                \n",
        "\n",
        "\"\"\"\n",
        "New data generator that generates the label based on the generated x and y.\n",
        "\"\"\"\n",
        "class DataGeneratorWrapper(DataGenerator):\n",
        "    def __getitem__(self, index):\n",
        "        x, y = super().__getitem__(index)\n",
        "        # Remove the end token from the input.\n",
        "        y_without_end = y.copy()\n",
        "        y_without_end[y == 2] = 0\n",
        "        \n",
        "        y_left_shifted = np.roll(y, -1, axis=1)\n",
        "        label = generate_label(x, y_left_shifted)\n",
        "        return (x, y), label"
      ]
    },
    {
      "cell_type": "markdown",
      "metadata": {},
      "source": [
        "## Training\n",
        "\n",
        "### Hyperparameters\n",
        "\n",
        "\n",
        "For the model, the following hyperparameter have been used:\n",
        "\n",
        "- `num_layers` -> **$4$** (number of Encoder and Decoder layers)\n",
        "- `d_model` -> **$172$** (dimension of the token embedding inside the model)\n",
        "- `num_heads` -> **$10$** (number of attention heads in each attention block)\n",
        "- `dff` -> **$512$** (neurons inside a feed forward layer)\n",
        "- `max_length` -> **$32$** (max lenght of each input phrase)\n",
        "- `input_vocab_size` -> **$10\\,000$** (size of the input vocabolary)\n",
        "- `target_vocab_size` -> **$10\\,000$** (size of the target vocabolary)\n",
        "- `output_vocab_size` -> **$28$** (size of the output vocabolary)\n",
        "- `train_size` -> **$220\\,000$** (dimension of the train set)\n",
        "- `validation_size` -> **$3000$** (dimension of the validation set)\n",
        "- `epochs` -> **$64$** (epochs used to train the model)\n",
        "- `learning_rate` -> **$10^{-4}$** (for some learning rate scheduler it varies)\n",
        "- `lr_scheduler` -> **\"constant\"** (learning rate scheduler)\n",
        "- `warmup_steps` -> **Not used** (warmup steps used in some learning rate scheduler)\n",
        "- `weight_decay` -> **$10^{-3}$** (weight decay used in loss function)\n",
        "- `optimizer` -> **\"adamw\"** (optimizer used in training)\n",
        "- `loss` -> **\"categorical_crossentropy\"** (loss used in training)\n",
        "\n",
        "### Training method\n",
        "\n",
        "The laptop used to write this code doesn't have a GPU so to train the model I used another machine and logged all the results and saved the resulting models using [Weights & Biases](http://wandb.ai)."
      ]
    },
    {
      "cell_type": "code",
      "execution_count": null,
      "metadata": {},
      "outputs": [],
      "source": [
        "!pip install wandb"
      ]
    },
    {
      "cell_type": "code",
      "execution_count": 10,
      "metadata": {},
      "outputs": [
        {
          "name": "stderr",
          "output_type": "stream",
          "text": [
            "Failed to detect the name of this notebook, you can set it manually with the WANDB_NOTEBOOK_NAME environment variable to enable code saving.\n",
            "\u001b[34m\u001b[1mwandb\u001b[0m: Currently logged in as: \u001b[33mluca24ever\u001b[0m (\u001b[33mluca24ever_unibo\u001b[0m). Use \u001b[1m`wandb login --relogin`\u001b[0m to force relogin\n"
          ]
        },
        {
          "data": {
            "text/html": [
              "wandb version 0.17.1 is available!  To upgrade, please run:\n",
              " $ pip install wandb --upgrade"
            ],
            "text/plain": [
              "<IPython.core.display.HTML object>"
            ]
          },
          "metadata": {},
          "output_type": "display_data"
        },
        {
          "data": {
            "text/html": [
              "Tracking run with wandb version 0.17.0"
            ],
            "text/plain": [
              "<IPython.core.display.HTML object>"
            ]
          },
          "metadata": {},
          "output_type": "display_data"
        },
        {
          "data": {
            "text/html": [
              "Run data is saved locally in <code>c:\\Users\\Luca\\Desktop\\MagistraleAI\\1st_year\\Deep Learning\\Assignment\\wandb\\run-20240612_091944-eoeci3sg</code>"
            ],
            "text/plain": [
              "<IPython.core.display.HTML object>"
            ]
          },
          "metadata": {},
          "output_type": "display_data"
        },
        {
          "data": {
            "text/html": [
              "Syncing run <strong><a href='https://wandb.ai/luca24ever_unibo/DLAssignment/runs/eoeci3sg' target=\"_blank\">dark-terrain-69</a></strong> to <a href='https://wandb.ai/luca24ever_unibo/DLAssignment' target=\"_blank\">Weights & Biases</a> (<a href='https://wandb.me/run' target=\"_blank\">docs</a>)<br/>"
            ],
            "text/plain": [
              "<IPython.core.display.HTML object>"
            ]
          },
          "metadata": {},
          "output_type": "display_data"
        },
        {
          "data": {
            "text/html": [
              " View project at <a href='https://wandb.ai/luca24ever_unibo/DLAssignment' target=\"_blank\">https://wandb.ai/luca24ever_unibo/DLAssignment</a>"
            ],
            "text/plain": [
              "<IPython.core.display.HTML object>"
            ]
          },
          "metadata": {},
          "output_type": "display_data"
        },
        {
          "data": {
            "text/html": [
              " View run at <a href='https://wandb.ai/luca24ever_unibo/DLAssignment/runs/eoeci3sg' target=\"_blank\">https://wandb.ai/luca24ever_unibo/DLAssignment/runs/eoeci3sg</a>"
            ],
            "text/plain": [
              "<IPython.core.display.HTML object>"
            ]
          },
          "metadata": {},
          "output_type": "display_data"
        }
      ],
      "source": [
        "import wandb\n",
        "from wandb.integration.keras import WandbMetricsLogger, WandbModelCheckpoint\n",
        "\n",
        "USE_WANDB = True\n",
        "DOWNLOAD_MODEL = True\n",
        "MODEL_TO_DOWNLOAD = 'luca24ever_unibo/DLAssignment/run_hry16xff_model:latest' # Name of the trained model from wandb\n",
        "CONTINUE_TRAINING = False\n",
        "\n",
        "input_vocab_size = tokenizer.vocabulary_size()\n",
        "output_vocab_size = max([len(sen) for sen in original_data]) # Should be 28\n",
        "\n",
        "config = {\n",
        "    \"num_layers\": 4,\n",
        "    \"d_model\": 172,\n",
        "    \"num_heads\": 10,\n",
        "    \"dff\": 512,\n",
        "    \"max_length\": 32,\n",
        "    \"train_size\": 220000,\n",
        "    \"validation_size\": 3000,\n",
        "    \"batch_size\": 32,\n",
        "    \"learning_rate\": 1e-4,\n",
        "    \"weight_decay\": 1e-3,\n",
        "    \"epochs\": 63,\n",
        "    \"optimizer\": \"adamw\",\n",
        "    \"loss\": \"categorical_crossentropy\",\n",
        "    \"input_vocab_size\": input_vocab_size,\n",
        "    \"target_vocab_size\": input_vocab_size,\n",
        "    \"output_vocab_size\": output_vocab_size,\n",
        "    \"lr_scheduler\": \"constant\",\n",
        "    \"warmup_steps\": 1000,\n",
        "}\n",
        "\n",
        "if USE_WANDB:\n",
        "    run = wandb.init(\n",
        "        # set the wandb project where this run will be logged\n",
        "        project=\"DLAssignment\",\n",
        "        # track hyperparameters and run metadata with the config object\n",
        "        config=config\n",
        "    )"
      ]
    },
    {
      "cell_type": "markdown",
      "metadata": {},
      "source": [
        "## Model Definition\n",
        "\n",
        "The model is composed of $19\\,130\\,524$ trainable params."
      ]
    },
    {
      "cell_type": "code",
      "execution_count": 11,
      "metadata": {},
      "outputs": [],
      "source": [
        "transformer = Transformer(num_layers=config[\"num_layers\"],\n",
        "                          d_model=config[\"d_model\"],\n",
        "                          num_heads=config[\"num_heads\"],\n",
        "                          dff=config[\"dff\"],\n",
        "                          input_vocab_size=config[\"input_vocab_size\"],\n",
        "                          target_vocab_size=config[\"target_vocab_size\"],\n",
        "                          output_vocab_size=config[\"output_vocab_size\"])"
      ]
    },
    {
      "cell_type": "code",
      "execution_count": 13,
      "metadata": {},
      "outputs": [
        {
          "name": "stderr",
          "output_type": "stream",
          "text": [
            "\u001b[34m\u001b[1mwandb\u001b[0m: Downloading large artifact run_hry16xff_model:latest, 73.20MB. 1 files... \n",
            "\u001b[34m\u001b[1mwandb\u001b[0m:   1 of 1 files downloaded.  \n",
            "Done. 0:0:0.4\n"
          ]
        },
        {
          "name": "stdout",
          "output_type": "stream",
          "text": [
            "WARNING:tensorflow:From c:\\Users\\Luca\\AppData\\Local\\Programs\\Python\\Python310\\lib\\site-packages\\keras\\src\\engine\\base_layer_utils.py:189: The name tf.placeholder is deprecated. Please use tf.compat.v1.placeholder instead.\n",
            "\n",
            "WARNING:tensorflow:From c:\\Users\\Luca\\AppData\\Local\\Programs\\Python\\Python310\\lib\\site-packages\\keras\\src\\layers\\normalization\\layer_normalization.py:328: The name tf.nn.fused_batch_norm is deprecated. Please use tf.compat.v1.nn.fused_batch_norm instead.\n",
            "\n"
          ]
        }
      ],
      "source": [
        "# Continue with the previous training\n",
        "if DOWNLOAD_MODEL and USE_WANDB:\n",
        "    MODEL_NAME = \"transformer_model.h5\"\n",
        "\n",
        "    # Download the model from wandb\n",
        "    artifact = run.use_artifact(MODEL_TO_DOWNLOAD, type='model')\n",
        "    artifact_dir = artifact.download()\n",
        "\n",
        "    # Load the downloaded weights into the model\n",
        "    transformer.build(input_shape=[(None, None), (None, None)])\n",
        "    transformer.load_weights(artifact_dir + \"/\" + MODEL_NAME)"
      ]
    },
    {
      "cell_type": "markdown",
      "metadata": {},
      "source": [
        "## Training"
      ]
    },
    {
      "cell_type": "markdown",
      "metadata": {},
      "source": [
        "Different Learning Rate scheduler had been tested and the best one was found to be the costant scheduler."
      ]
    },
    {
      "cell_type": "code",
      "execution_count": 14,
      "metadata": {},
      "outputs": [],
      "source": [
        "class BatchLearningRateScheduler(tf.keras.callbacks.Callback):\n",
        "    def __init__(self, schedule):\n",
        "        super(BatchLearningRateScheduler, self).__init__()\n",
        "        self.schedule = schedule\n",
        "\n",
        "    def on_train_batch_begin(self, batch, logs=None):\n",
        "        lr = float(tf.keras.backend.get_value(self.model.optimizer.learning_rate))\n",
        "        scheduled_lr = self.schedule(batch, lr)\n",
        "        tf.keras.backend.set_value(self.model.optimizer.learning_rate, scheduled_lr)\n",
        "        \n",
        "def lr_schedule_decay(batch, lr):\n",
        "    initial_lr = 0.001\n",
        "    k = 0.0001\n",
        "    return initial_lr * np.exp(-k * batch)\n",
        "\n",
        "def lr_schedule_constant(batch, lr):\n",
        "    return lr\n",
        "\n",
        "def lr_schedule_transformer(batch, lr):\n",
        "    initial_lr = 0.001\n",
        "    warmup_steps = 4000\n",
        "    step_num = batch + 1  # Avoid division by zero\n",
        "    return initial_lr * min(step_num**-0.5, step_num * (warmup_steps**-1.5))"
      ]
    },
    {
      "cell_type": "code",
      "execution_count": 15,
      "metadata": {},
      "outputs": [],
      "source": [
        "# Define all the generators\n",
        "train_generator = DataGeneratorWrapper(original_data[:config[\"train_size\"]-config[\"validation_size\"]], batch_size=config[\"batch_size\"], seed=SEED)\n",
        "validation_generator = DataGeneratorWrapper(original_data[config[\"train_size\"]-config[\"validation_size\"]:config[\"train_size\"]], batch_size=config[\"batch_size\"], shuffle=False, seed=SEED)\n",
        "test_generator = DataGeneratorWrapper(original_data[config[\"train_size\"]:], batch_size=config[\"batch_size\"], shuffle=False, seed=SEED)"
      ]
    },
    {
      "cell_type": "code",
      "execution_count": null,
      "metadata": {},
      "outputs": [],
      "source": [
        "if CONTINUE_TRAINING:\n",
        "    # Choose the optimizer based on the configuration\n",
        "    if config[\"optimizer\"] == \"adam\":\n",
        "        optimizer = Adam(learning_rate=config[\"learning_rate\"])\n",
        "    elif config[\"optimizer\"] == \"adamw\":\n",
        "        optimizer = AdamW(learning_rate=config[\"learning_rate\"], weight_decay=config[\"weight_decay\"])\n",
        "    else:\n",
        "        raise ValueError(f'Unknown optimizer: {config[\"optimizer\"]}')\n",
        "\n",
        "    # Choose the loss function based on the configuration\n",
        "    if config[\"loss\"] == \"categorical_crossentropy\":\n",
        "        loss = CategoricalCrossentropy(from_logits=True)\n",
        "    else:\n",
        "        raise ValueError(f'Unknown loss: {config[\"loss\"]}')\n",
        "\n",
        "    # Choose the learning rate scheduler based on the configuration\n",
        "    if config[\"lr_scheduler\"] == \"constant\":\n",
        "        lr_schedule = lr_schedule_constant\n",
        "    elif config[\"lr_scheduler\"] == \"decay\":\n",
        "        lr_schedule = lr_schedule_decay\n",
        "    elif config[\"lr_scheduler\"] == \"transformer\":\n",
        "        lr_schedule = lr_schedule_transformer\n",
        "    else:\n",
        "        raise ValueError(f'Unknown lr_scheduler: {config[\"lr_scheduler\"]}')\n",
        "\n",
        "    lr_scheduler = BatchLearningRateScheduler(lr_schedule)\n",
        "\n",
        "    # Compile the model with the chosen optimizer and loss function\n",
        "    transformer.compile(optimizer=optimizer, loss=loss)\n",
        "\n",
        "    # Train the model with the specified number of epochs and validation data\n",
        "    # and logs the metrics to wandb\n",
        "    if USE_WANDB:\n",
        "        transformer.fit(train_generator, epochs=config[\"epochs\"], validation_data=validation_generator, callbacks=[\n",
        "            WandbMetricsLogger(log_freq=5),\n",
        "            WandbModelCheckpoint(\"transformer_model.h5\", monitor=\"val_loss\", save_best_only=True, save_weights_only=True),\n",
        "            lr_scheduler\n",
        "        ])\n",
        "    else:\n",
        "        transformer.fit(train_generator, epochs=config[\"epochs\"], validation_data=validation_generator, callbacks=[\n",
        "            lr_scheduler\n",
        "        ])\n",
        "\n",
        "    # Save the trained model\n",
        "    transformer.save('transformer.h5')"
      ]
    },
    {
      "cell_type": "markdown",
      "metadata": {},
      "source": [
        "**Note**: the output logs of the training are not printed in this notebook because the model was trained on another device. The relevant data are plotted below."
      ]
    },
    {
      "cell_type": "code",
      "execution_count": 16,
      "metadata": {},
      "outputs": [
        {
          "name": "stdout",
          "output_type": "stream",
          "text": [
            "Model: \"transformer\"\n",
            "_________________________________________________________________\n",
            " Layer (type)                Output Shape              Param #   \n",
            "=================================================================\n",
            " encoder (Encoder)           multiple                  7184768   \n",
            "                                                                 \n",
            " decoder (Decoder)           multiple                  11940912  \n",
            "                                                                 \n",
            " dense_16 (Dense)            multiple                  4844      \n",
            "                                                                 \n",
            "=================================================================\n",
            "Total params: 19130524 (72.98 MB)\n",
            "Trainable params: 19130524 (72.98 MB)\n",
            "Non-trainable params: 0 (0.00 Byte)\n",
            "_________________________________________________________________\n"
          ]
        }
      ],
      "source": [
        "transformer.summary()"
      ]
    },
    {
      "cell_type": "markdown",
      "metadata": {},
      "source": [
        "## Train plots"
      ]
    },
    {
      "cell_type": "code",
      "execution_count": 17,
      "metadata": {},
      "outputs": [
        {
          "data": {
            "image/png": "[encoded data removed]",
            "text/plain": [
              "<Figure size 640x480 with 1 Axes>"
            ]
          },
          "metadata": {},
          "output_type": "display_data"
        }
      ],
      "source": [
        "import json\n",
        "import matplotlib.pyplot as plt\n",
        "\n",
        "with open(\"data.json\") as f:\n",
        "\tdata = json.load(f)\n",
        "\n",
        "plt.title(\"Losses during training\")\n",
        "plt.xlabel(\"Batch Step\")\n",
        "plt.ylabel(\"Loss\")\n",
        "plt.plot(data[\"data_batch_loss\"][\"steps\"], data[\"data_batch_loss\"][\"loss\"], label=\"Batch Train Loss\")\n",
        "\n",
        "plt.plot(data[\"data_val_loss\"][\"steps\"], data[\"data_val_loss\"][\"loss\"], label=\"Epoch Validation Loss\")\n",
        "plt.plot(data[\"data_val_loss\"][\"steps\"][data[\"arg_min_val_loss\"]], data[\"min_val_loss\"], 'ro', label=\"Min Validation Loss\")\n",
        "plt.legend()\n",
        "plt.show()"
      ]
    },
    {
      "cell_type": "markdown",
      "metadata": {},
      "source": [
        "**Note**: the step-like trend of the batch train loss is due to a Keras implementation of the logging, because instead of printing the current value of the loss function, it prints the average of the loss from the start of the epoch.\n",
        "\n",
        "**Links**: here I link the plots above directly from Weights & Biases:\n",
        "- [Batch Train Loss](https://api.wandb.ai/links/luca24ever_unibo/hhgp9y16)\n",
        "- [Epoch Val Loss](https://api.wandb.ai/links/luca24ever_unibo/xkcyxcat)"
      ]
    },
    {
      "cell_type": "markdown",
      "metadata": {},
      "source": [
        "# Evaluation\n",
        "\n",
        "To predict the resulting sentence, only the `<start>` token is fed inside the Decoder and the reordered sentence is fed inside the Encoder. The prediction is made one token at a time that gets appended to the input of the Decoder. The process ends when the model predicts the index of the `<end>` token in the input sentence.  \n",
        "\n",
        "The given score function is used to evaluate the model. The predicted sentence is compared to the ground truth sentence and the strings `<start>` and `<end>` are removed from both.\n",
        "\n",
        "For the inference, a masking mechanism have also been implemented, basically setting to $-\\infty$ all the values of the predictions for the tokens that has already been chosen in order to constraint the output of the network to not choose the same word two times.\n",
        "\n",
        "Nevertheless, post-processing of the output is not allowed in this task, so the variable `USE_MASK` is set to false."
      ]
    },
    {
      "cell_type": "code",
      "execution_count": 22,
      "metadata": {},
      "outputs": [],
      "source": [
        "import keras\n",
        "from tqdm import tqdm\n",
        "import gc\n",
        "\n",
        "START_TOKEN = 3\n",
        "END_TOKEN = 2\n",
        "PADDING_TOKEN = 0\n",
        "\n",
        "def calculate_avg_score(transformer, test_generator, detokenizer, use_mask=False):\n",
        "    scores = []\n",
        "    \n",
        "    # The ground truth labels are ignored in evaluation\n",
        "    for (input_tokens, truth_tokens), _ in tqdm(test_generator):\n",
        "        batch_size = truth_tokens.shape[0]\n",
        "        truth_sents = [ detokenizer([truth_tokens[b]])[0] for b in range(batch_size) ]\n",
        "        prediction_sentence = [\"\"] * batch_size\n",
        "        prediction_tokens = np.array([[START_TOKEN] + [PADDING_TOKEN] * 27] * batch_size)\n",
        "        \n",
        "        masks = np.zeros((batch_size, 28, 28))\n",
        "\n",
        "        for i in range(27):\n",
        "            out = transformer.predict_on_batch(( np.array(input_tokens), np.array(prediction_tokens) ))\n",
        "\n",
        "            if use_mask:\n",
        "                out = out + masks\n",
        "\n",
        "            for b in range(batch_size):\n",
        "                # If the sentence has already been predicted, skip it\n",
        "                if len(prediction_sentence[b]) != 0: continue\n",
        "                \n",
        "                predicted_token_index = np.argmax(out[b, i, :])\n",
        "                predicted_token = input_tokens[b, predicted_token_index]\n",
        "                \n",
        "                if use_mask:\n",
        "                    # Find the number of occurences of pred_token inside in_tokens[b]\n",
        "                    occurences_input = np.sum(input_tokens[b] == predicted_token)\n",
        "                    occurences_autoregressive = np.sum(prediction_tokens[b] == predicted_token)\n",
        "                    \n",
        "                    # If the predicted token has already been predicted more times than it appears in the input, mask it\n",
        "                    if occurences_autoregressive >= occurences_input:\n",
        "                        masks[b, :, predicted_token_index] = - np.inf\n",
        "                \n",
        "                prediction_tokens[b, i+1] = predicted_token\n",
        "\n",
        "                # If the predicted token is the end token, stop the prediction\n",
        "                if predicted_token == END_TOKEN:\n",
        "                    prediction_sentence[b] = detokenizer([prediction_tokens[b]])[0]\n",
        "            \n",
        "            # If all the sentences have been predicted, stop the prediction\n",
        "            if all([ len(s) > 0 for s in prediction_sentence ]):\n",
        "                break\n",
        "\n",
        "        # Handle sentences without end token\n",
        "        for b in range(len(prediction_sentence)):\n",
        "            if len(prediction_sentence[b]) == 0:\n",
        "                prediction_sentence[b] = detokenizer([prediction_tokens[b]])[0] + \" <end>\"\n",
        "        \n",
        "        for b in range(batch_size):\n",
        "            # Remove <start> and <end> tokens\n",
        "            prediction_sentence[b], truth_sents[b] = prediction_sentence[b][8:-6], truth_sents[b][8:-6] \n",
        "            scores.append( score(truth_sents[b], prediction_sentence[b]) )\n",
        "\n",
        "        # Fix memory leak\n",
        "        gc.collect()\n",
        "        keras.backend.clear_session()\n",
        "        \n",
        "    return len(scores), np.mean(scores), np.std(scores)"
      ]
    },
    {
      "cell_type": "code",
      "execution_count": 23,
      "metadata": {},
      "outputs": [
        {
          "name": "stderr",
          "output_type": "stream",
          "text": [
            "100%|██████████| 663/663 [34:09<00:00,  3.09s/it]"
          ]
        },
        {
          "name": "stdout",
          "output_type": "stream",
          "text": [
            "\n",
            "Number of test sentences: 21216\n",
            "Average score: 0.6503331317989776\n",
            "Standard deviation of the scores: 0.31162338368881815\n"
          ]
        },
        {
          "name": "stderr",
          "output_type": "stream",
          "text": [
            "\n"
          ]
        }
      ],
      "source": [
        "num_scores, avg_score, std_score = calculate_avg_score(transformer, test_generator, detokenizer, use_mask=False)\n",
        "print(f\"\\nNumber of test sentences: {num_scores}\")\n",
        "print(f\"Average score: {avg_score}\")\n",
        "print(f\"Standard deviation of the scores: {std_score}\")"
      ]
    },
    {
      "cell_type": "markdown",
      "metadata": {},
      "source": [
        "### Average Score: $0.6503331317989776$"
      ]
    },
    {
      "cell_type": "markdown",
      "metadata": {},
      "source": []
    }
  ],
  "metadata": {
    "accelerator": "GPU",
    "colab": {
      "gpuType": "T4",
      "provenance": [],
      "toc_visible": true
    },
    "kernelspec": {
      "display_name": "Python 3",
      "name": "python3"
    },
    "language_info": {
      "codemirror_mode": {
        "name": "ipython",
        "version": 3
      },
      "file_extension": ".py",
      "mimetype": "text/x-python",
      "name": "python",
      "nbconvert_exporter": "python",
      "pygments_lexer": "ipython3",
      "version": "3.10.11"
    },
    "widgets": {
      "application/vnd.jupyter.widget-state+json": {
        "01e2428b016d4c6588e8a399ebbbc367": {
          "model_module": "@jupyter-widgets/controls",
          "model_module_version": "1.5.0",
          "model_name": "HTMLModel",
          "state": {
            "_dom_classes": [],
            "_model_module": "@jupyter-widgets/controls",
            "_model_module_version": "1.5.0",
            "_model_name": "HTMLModel",
            "_view_count": null,
            "_view_module": "@jupyter-widgets/controls",
            "_view_module_version": "1.5.0",
            "_view_name": "HTMLView",
            "description": "",
            "description_tooltip": null,
            "layout": "IPY_MODEL_d388b76907324629a8dcf22232fbe368",
            "placeholder": "​",
            "style": "IPY_MODEL_cc49c1aa52814e8082b2897ef630c5db",
            "value": " 1020868/1020868 [00:25&lt;00:00, 32940.36 examples/s]"
          }
        },
        "4be629ac0cc444d7ba724e8e54cb68cd": {
          "model_module": "@jupyter-widgets/base",
          "model_module_version": "1.2.0",
          "model_name": "LayoutModel",
          "state": {
            "_model_module": "@jupyter-widgets/base",
            "_model_module_version": "1.2.0",
            "_model_name": "LayoutModel",
            "_view_count": null,
            "_view_module": "@jupyter-widgets/base",
            "_view_module_version": "1.2.0",
            "_view_name": "LayoutView",
            "align_content": null,
            "align_items": null,
            "align_self": null,
            "border": null,
            "bottom": null,
            "display": null,
            "flex": null,
            "flex_flow": null,
            "grid_area": null,
            "grid_auto_columns": null,
            "grid_auto_flow": null,
            "grid_auto_rows": null,
            "grid_column": null,
            "grid_gap": null,
            "grid_row": null,
            "grid_template_areas": null,
            "grid_template_columns": null,
            "grid_template_rows": null,
            "height": null,
            "justify_content": null,
            "justify_items": null,
            "left": null,
            "margin": null,
            "max_height": null,
            "max_width": null,
            "min_height": null,
            "min_width": null,
            "object_fit": null,
            "object_position": null,
            "order": null,
            "overflow": null,
            "overflow_x": null,
            "overflow_y": null,
            "padding": null,
            "right": null,
            "top": null,
            "visibility": null,
            "width": null
          }
        },
        "6ac9b8152bba473ab9c22d64f69173b9": {
          "model_module": "@jupyter-widgets/controls",
          "model_module_version": "1.5.0",
          "model_name": "HBoxModel",
          "state": {
            "_dom_classes": [],
            "_model_module": "@jupyter-widgets/controls",
            "_model_module_version": "1.5.0",
            "_model_name": "HBoxModel",
            "_view_count": null,
            "_view_module": "@jupyter-widgets/controls",
            "_view_module_version": "1.5.0",
            "_view_name": "HBoxView",
            "box_style": "",
            "children": [
              "IPY_MODEL_d2eb59a45c0e4068a7497bb3a31b188d",
              "IPY_MODEL_ecdfb26b614b490fb8b3c14d606b78b8",
              "IPY_MODEL_01e2428b016d4c6588e8a399ebbbc367"
            ],
            "layout": "IPY_MODEL_4be629ac0cc444d7ba724e8e54cb68cd"
          }
        },
        "ad458b17c52e43a98d9779245b172cb9": {
          "model_module": "@jupyter-widgets/controls",
          "model_module_version": "1.5.0",
          "model_name": "DescriptionStyleModel",
          "state": {
            "_model_module": "@jupyter-widgets/controls",
            "_model_module_version": "1.5.0",
            "_model_name": "DescriptionStyleModel",
            "_view_count": null,
            "_view_module": "@jupyter-widgets/base",
            "_view_module_version": "1.2.0",
            "_view_name": "StyleView",
            "description_width": ""
          }
        },
        "c71e6fdef7b74d9285cc4843b0a4889f": {
          "model_module": "@jupyter-widgets/base",
          "model_module_version": "1.2.0",
          "model_name": "LayoutModel",
          "state": {
            "_model_module": "@jupyter-widgets/base",
            "_model_module_version": "1.2.0",
            "_model_name": "LayoutModel",
            "_view_count": null,
            "_view_module": "@jupyter-widgets/base",
            "_view_module_version": "1.2.0",
            "_view_name": "LayoutView",
            "align_content": null,
            "align_items": null,
            "align_self": null,
            "border": null,
            "bottom": null,
            "display": null,
            "flex": null,
            "flex_flow": null,
            "grid_area": null,
            "grid_auto_columns": null,
            "grid_auto_flow": null,
            "grid_auto_rows": null,
            "grid_column": null,
            "grid_gap": null,
            "grid_row": null,
            "grid_template_areas": null,
            "grid_template_columns": null,
            "grid_template_rows": null,
            "height": null,
            "justify_content": null,
            "justify_items": null,
            "left": null,
            "margin": null,
            "max_height": null,
            "max_width": null,
            "min_height": null,
            "min_width": null,
            "object_fit": null,
            "object_position": null,
            "order": null,
            "overflow": null,
            "overflow_x": null,
            "overflow_y": null,
            "padding": null,
            "right": null,
            "top": null,
            "visibility": null,
            "width": null
          }
        },
        "cc49c1aa52814e8082b2897ef630c5db": {
          "model_module": "@jupyter-widgets/controls",
          "model_module_version": "1.5.0",
          "model_name": "DescriptionStyleModel",
          "state": {
            "_model_module": "@jupyter-widgets/controls",
            "_model_module_version": "1.5.0",
            "_model_name": "DescriptionStyleModel",
            "_view_count": null,
            "_view_module": "@jupyter-widgets/base",
            "_view_module_version": "1.2.0",
            "_view_name": "StyleView",
            "description_width": ""
          }
        },
        "d2eb59a45c0e4068a7497bb3a31b188d": {
          "model_module": "@jupyter-widgets/controls",
          "model_module_version": "1.5.0",
          "model_name": "HTMLModel",
          "state": {
            "_dom_classes": [],
            "_model_module": "@jupyter-widgets/controls",
            "_model_module_version": "1.5.0",
            "_model_name": "HTMLModel",
            "_view_count": null,
            "_view_module": "@jupyter-widgets/controls",
            "_view_module_version": "1.5.0",
            "_view_name": "HTMLView",
            "description": "",
            "description_tooltip": null,
            "layout": "IPY_MODEL_d7272b54af0b42cd91ae6e1f2a8c66b7",
            "placeholder": "​",
            "style": "IPY_MODEL_ad458b17c52e43a98d9779245b172cb9",
            "value": "Filter: 100%"
          }
        },
        "d388b76907324629a8dcf22232fbe368": {
          "model_module": "@jupyter-widgets/base",
          "model_module_version": "1.2.0",
          "model_name": "LayoutModel",
          "state": {
            "_model_module": "@jupyter-widgets/base",
            "_model_module_version": "1.2.0",
            "_model_name": "LayoutModel",
            "_view_count": null,
            "_view_module": "@jupyter-widgets/base",
            "_view_module_version": "1.2.0",
            "_view_name": "LayoutView",
            "align_content": null,
            "align_items": null,
            "align_self": null,
            "border": null,
            "bottom": null,
            "display": null,
            "flex": null,
            "flex_flow": null,
            "grid_area": null,
            "grid_auto_columns": null,
            "grid_auto_flow": null,
            "grid_auto_rows": null,
            "grid_column": null,
            "grid_gap": null,
            "grid_row": null,
            "grid_template_areas": null,
            "grid_template_columns": null,
            "grid_template_rows": null,
            "height": null,
            "justify_content": null,
            "justify_items": null,
            "left": null,
            "margin": null,
            "max_height": null,
            "max_width": null,
            "min_height": null,
            "min_width": null,
            "object_fit": null,
            "object_position": null,
            "order": null,
            "overflow": null,
            "overflow_x": null,
            "overflow_y": null,
            "padding": null,
            "right": null,
            "top": null,
            "visibility": null,
            "width": null
          }
        },
        "d7272b54af0b42cd91ae6e1f2a8c66b7": {
          "model_module": "@jupyter-widgets/base",
          "model_module_version": "1.2.0",
          "model_name": "LayoutModel",
          "state": {
            "_model_module": "@jupyter-widgets/base",
            "_model_module_version": "1.2.0",
            "_model_name": "LayoutModel",
            "_view_count": null,
            "_view_module": "@jupyter-widgets/base",
            "_view_module_version": "1.2.0",
            "_view_name": "LayoutView",
            "align_content": null,
            "align_items": null,
            "align_self": null,
            "border": null,
            "bottom": null,
            "display": null,
            "flex": null,
            "flex_flow": null,
            "grid_area": null,
            "grid_auto_columns": null,
            "grid_auto_flow": null,
            "grid_auto_rows": null,
            "grid_column": null,
            "grid_gap": null,
            "grid_row": null,
            "grid_template_areas": null,
            "grid_template_columns": null,
            "grid_template_rows": null,
            "height": null,
            "justify_content": null,
            "justify_items": null,
            "left": null,
            "margin": null,
            "max_height": null,
            "max_width": null,
            "min_height": null,
            "min_width": null,
            "object_fit": null,
            "object_position": null,
            "order": null,
            "overflow": null,
            "overflow_x": null,
            "overflow_y": null,
            "padding": null,
            "right": null,
            "top": null,
            "visibility": null,
            "width": null
          }
        },
        "ecdfb26b614b490fb8b3c14d606b78b8": {
          "model_module": "@jupyter-widgets/controls",
          "model_module_version": "1.5.0",
          "model_name": "FloatProgressModel",
          "state": {
            "_dom_classes": [],
            "_model_module": "@jupyter-widgets/controls",
            "_model_module_version": "1.5.0",
            "_model_name": "FloatProgressModel",
            "_view_count": null,
            "_view_module": "@jupyter-widgets/controls",
            "_view_module_version": "1.5.0",
            "_view_name": "ProgressView",
            "bar_style": "success",
            "description": "",
            "description_tooltip": null,
            "layout": "IPY_MODEL_c71e6fdef7b74d9285cc4843b0a4889f",
            "max": 1020868,
            "min": 0,
            "orientation": "horizontal",
            "style": "IPY_MODEL_fead1879bbf1494592e40405ca9ab6fd",
            "value": 1020868
          }
        },
        "fead1879bbf1494592e40405ca9ab6fd": {
          "model_module": "@jupyter-widgets/controls",
          "model_module_version": "1.5.0",
          "model_name": "ProgressStyleModel",
          "state": {
            "_model_module": "@jupyter-widgets/controls",
            "_model_module_version": "1.5.0",
            "_model_name": "ProgressStyleModel",
            "_view_count": null,
            "_view_module": "@jupyter-widgets/base",
            "_view_module_version": "1.2.0",
            "_view_name": "StyleView",
            "bar_color": null,
            "description_width": ""
          }
        }
      }
    }
  },
  "nbformat": 4,
  "nbformat_minor": 0
}
